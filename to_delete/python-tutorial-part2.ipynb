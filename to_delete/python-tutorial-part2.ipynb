{
 "cells": [
  {
   "cell_type": "markdown",
   "metadata": {},
   "source": [
    "# Python Tutorial - Part 2\n",
    "\n",
    "### Covered Topics\n",
    "- Introduction to object-oriented programming\n",
    "- Classes and objects\n",
    "- Inheritance\n",
    "- Polymorphism\n",
    "\n",
    "Reference: https://www.w3schools.com/python/"
   ]
  }
 ],
 "metadata": {
  "language_info": {
   "name": "python"
  }
 },
 "nbformat": 4,
 "nbformat_minor": 2
}
